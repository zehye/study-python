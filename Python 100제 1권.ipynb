{
 "cells": [
  {
   "cell_type": "markdown",
   "metadata": {},
   "source": [
    "#### [파이썬 문제 1000제](https://www.notion.so/Python-100-1-abeccbfd8175483da1ed96642640c687)"
   ]
  },
  {
   "cell_type": "markdown",
   "metadata": {},
   "source": [
    "# 문제1 : 리스트의 삭제\n",
    "다음 리스트에서 400, 500를 삭제하는 code를 입력하세요."
   ]
  },
  {
   "cell_type": "code",
   "execution_count": 5,
   "metadata": {},
   "outputs": [
    {
     "data": {
      "text/plain": [
       "[100, 200, 300]"
      ]
     },
     "execution_count": 5,
     "metadata": {},
     "output_type": "execute_result"
    }
   ],
   "source": [
    "nums = [100, 200, 300, 400, 500]\n",
    "nums.remove(400)\n",
    "nums.remove(500)\n",
    "nums"
   ]
  },
  {
   "cell_type": "code",
   "execution_count": 8,
   "metadata": {},
   "outputs": [
    {
     "data": {
      "text/plain": [
       "[100, 200, 300]"
      ]
     },
     "execution_count": 8,
     "metadata": {},
     "output_type": "execute_result"
    }
   ],
   "source": [
    "nums = [100, 200, 300, 400, 500]\n",
    "nums.pop()\n",
    "nums.pop()\n",
    "nums"
   ]
  },
  {
   "cell_type": "markdown",
   "metadata": {},
   "source": [
    "# 문제2 : 리스트의 내장함수"
   ]
  },
  {
   "cell_type": "code",
   "execution_count": 9,
   "metadata": {},
   "outputs": [
    {
     "name": "stdout",
     "output_type": "stream",
     "text": [
      "[200, 100, 1000, 300]\n"
     ]
    }
   ],
   "source": [
    "l = [200, 100, 300]\n",
    "l.insert(2, 1000)\n",
    "print(l)"
   ]
  },
  {
   "cell_type": "markdown",
   "metadata": {},
   "source": [
    "# 문제3: 변수의 타입"
   ]
  },
  {
   "cell_type": "code",
   "execution_count": 10,
   "metadata": {},
   "outputs": [
    {
     "name": "stdout",
     "output_type": "stream",
     "text": [
      "<class 'list'>\n"
     ]
    }
   ],
   "source": [
    "l = [100, 200, 300]\n",
    "print(type(l))"
   ]
  },
  {
   "cell_type": "markdown",
   "metadata": {},
   "source": [
    "# 문제5: for문 계산"
   ]
  },
  {
   "cell_type": "code",
   "execution_count": 15,
   "metadata": {},
   "outputs": [
    {
     "name": "stdout",
     "output_type": "stream",
     "text": [
      "16\n"
     ]
    }
   ],
   "source": [
    "a = 10\n",
    "b = 2\n",
    "for i in range(1,5,2):\n",
    "    a += i\n",
    "    \n",
    "print(a+b)"
   ]
  },
  {
   "cell_type": "markdown",
   "metadata": {},
   "source": [
    "# 문제8 : 딕셔너리 키 이름 중복 "
   ]
  },
  {
   "cell_type": "code",
   "execution_count": 19,
   "metadata": {},
   "outputs": [],
   "source": [
    "d = {'height':180,\n",
    "     'weight':84,\n",
    "     'temparture':36,\n",
    "     'eyesight':1}"
   ]
  },
  {
   "cell_type": "code",
   "execution_count": 20,
   "metadata": {},
   "outputs": [
    {
     "name": "stdout",
     "output_type": "stream",
     "text": [
      "84\n"
     ]
    }
   ],
   "source": [
    "print(d['weight'])"
   ]
  },
  {
   "cell_type": "markdown",
   "metadata": {},
   "source": [
    "# 문제9 : sep과 end를활용한 출력방법"
   ]
  },
  {
   "cell_type": "code",
   "execution_count": 31,
   "metadata": {},
   "outputs": [
    {
     "name": "stdout",
     "output_type": "stream",
     "text": [
      "2019/04/26 11:34:27 !!!"
     ]
    }
   ],
   "source": [
    "year = '2019'\n",
    "month = '04'\n",
    "day = '26'\n",
    "hour = '11'\n",
    "minute = '34'\n",
    "second = '27'\n",
    "\n",
    "print(year, month, day, sep='/', end=' ')\n",
    "print(hour, minute, second, sep=':', end=' !!!')\n",
    "\n",
    "# sep=\"\": print 함수에서 출력하는 값들을 구분\n",
    "# end=\"\": print함수는 종료될때 끝을 줄바꿈 문자로 하는데, \n",
    "# 함수가 종료될때 실행하는 값을 조정함/ 즉, 줄바꿈으로 종요하지 않음"
   ]
  },
  {
   "cell_type": "markdown",
   "metadata": {},
   "source": [
    "# 문제10: 별 찍기\n",
    "크리스마스 날, 은비는 친구들과 함께 파티를 하기로 했습니다. 그런데, 크리스마스 트리를 사는 것을 깜빡하고 말았습니다. 온 가게를 돌아다녀 봤지만 크리스마스 트리는 모두 품절이었습니다. \n",
    "하는 수 없이 은비는 프로그래밍으로 트리를 만들기로 합니다. \n",
    "\n",
    "**은비를 위해 프로그램을 작성해 주세요.**"
   ]
  },
  {
   "cell_type": "code",
   "execution_count": 53,
   "metadata": {},
   "outputs": [
    {
     "name": "stdout",
     "output_type": "stream",
     "text": [
      "숫자를 적어보세요:5\n",
      " \n",
      " *\n",
      " ***\n",
      " *****\n",
      " *******\n"
     ]
    }
   ],
   "source": [
    "n = int(input(\"숫자를 적어보세요:\"))\n",
    "for i in range(n):\n",
    "    print(''*(i), \"*\"*(2*i-1))"
   ]
  },
  {
   "cell_type": "markdown",
   "metadata": {},
   "source": [
    "# 문제11: for를 이용한 기본 활용\n",
    "1부터 100까지 모두 더하는 Code를 완성하세요. for를 사용해야 합니다."
   ]
  },
  {
   "cell_type": "code",
   "execution_count": 56,
   "metadata": {},
   "outputs": [
    {
     "name": "stdout",
     "output_type": "stream",
     "text": [
      "5050\n"
     ]
    }
   ],
   "source": [
    "s = 0\n",
    "\n",
    "for i in range(1, 101):\n",
    "    s += i\n",
    "\n",
    "print(s)"
   ]
  },
  {
   "cell_type": "markdown",
   "metadata": {},
   "source": [
    "# 문제12: 게임 캐릭터 클래스 만들기\n",
    "다음 소스코드에서 클래스를 작성하여 게임 캐릭터의 능력치와 '파이어볼'이 출력되게 만드시오."
   ]
  },
  {
   "cell_type": "code",
   "execution_count": 66,
   "metadata": {},
   "outputs": [],
   "source": [
    "class Wizard:\n",
    "    def __init__(self, health, mana, armor):\n",
    "        self.health = health\n",
    "        self.mana = mana\n",
    "        self.armor = armor\n",
    "        \n",
    "    def attack(self):\n",
    "        print('파이어볼')"
   ]
  },
  {
   "cell_type": "code",
   "execution_count": 71,
   "metadata": {},
   "outputs": [
    {
     "name": "stdout",
     "output_type": "stream",
     "text": [
      "545 210 10\n",
      "파이어볼\n"
     ]
    }
   ],
   "source": [
    "x = Wizard(health = 545, mana = 210, armor = 10)\n",
    "print(x.health, x.mana, x.armor)\n",
    "x.attack()"
   ]
  },
  {
   "cell_type": "markdown",
   "metadata": {},
   "source": [
    "# 문제13: 몇 번째 행성인가요?\n",
    "우리 태양계를 이루고 있는 행성은 수성, 금성, 지구, 화성, 목성, 토성, 천왕성, 해왕성으로 총 8개 입니다. 저희는 우리 태양계의 n번째 행성이 무엇인지 알고 싶습니다.\n",
    "\n",
    "입력으로 행성의 순서를 나타내는 숫자 n이 입력됩니다. 예를들어 수성은 첫번째 행성입니다."
   ]
  },
  {
   "cell_type": "code",
   "execution_count": 77,
   "metadata": {},
   "outputs": [
    {
     "name": "stdout",
     "output_type": "stream",
     "text": [
      "숫자를 적으세요: 4\n",
      "화성\n"
     ]
    }
   ],
   "source": [
    "solar = ['수성', '금성', '지구', '화성', '목성', '토성', '천왕성', '해왕성']\n",
    "anwser = int(input('숫자를 적으세요: '))-1\n",
    "print(solar[anwser])"
   ]
  },
  {
   "cell_type": "markdown",
   "metadata": {},
   "source": [
    "# 문제14: 3의 배수인가요?\n",
    "영희는 친구와 게임을 하고 있습니다. 서로 돌아가며 랜덤으로 숫자를 하나 말하고 그게 3의 배수이면 박수를 치고 아니면 그 숫자를 그대로 말하는 게임입니다.\n",
    "\n",
    "입력으로 랜덤한 숫자 n이 주어집니다.\n",
    "\n",
    "만약 그 수가 3의 배수라면 '짝'이라는 글자를, 3의 배수가 아니라면 n을 그대로 출력해 주세요"
   ]
  },
  {
   "cell_type": "code",
   "execution_count": 80,
   "metadata": {},
   "outputs": [
    {
     "name": "stdout",
     "output_type": "stream",
     "text": [
      "아무 숫자나 적어: 5\n",
      "5\n"
     ]
    }
   ],
   "source": [
    "n = int(input(\"아무 숫자나 적어: \"))\n",
    "if n % 3 == 0:\n",
    "    print('짝!')\n",
    "else:\n",
    "    print(n)"
   ]
  },
  {
   "cell_type": "markdown",
   "metadata": {},
   "source": [
    "# 문제15: 자기소개"
   ]
  },
  {
   "cell_type": "code",
   "execution_count": 86,
   "metadata": {},
   "outputs": [
    {
     "name": "stdout",
     "output_type": "stream",
     "text": [
      "이름을 적으세요: 박지혜\n",
      "안녕하세요. 저는 박지혜 입니다.\n"
     ]
    }
   ],
   "source": [
    "name = input('이름을 적으세요: ')\n",
    "print(f'안녕하세요. 저는 {name} 입니다.')"
   ]
  },
  {
   "cell_type": "markdown",
   "metadata": {},
   "source": [
    "# 문제16: 로꾸거"
   ]
  },
  {
   "cell_type": "code",
   "execution_count": 90,
   "metadata": {
    "scrolled": true
   },
   "outputs": [
    {
     "name": "stdout",
     "output_type": "stream",
     "text": [
      "입력하세요: 박지혜\n",
      "혜지박\n"
     ]
    }
   ],
   "source": [
    "str1 = input('입력하세요: ')\n",
    "print(str1[::-1])"
   ]
  },
  {
   "cell_type": "markdown",
   "metadata": {},
   "source": [
    "# 문제17: 놀이기구 키 제한\n",
    "유주는 놀이공원 아르바이트 중입니다. 그런데 놀이기구마다 키 제한이 있습니다.\n",
    "유주가 담당하는 놀이기구는 키가 150 이상만 탈 수 있습니다.\n",
    "\n",
    "입력으로 키가 주어지면\n",
    "키가 150이 넘으면 **YES**를 틀리면 **NO**를 출력하는 프로그램을 작성하세요."
   ]
  },
  {
   "cell_type": "code",
   "execution_count": 95,
   "metadata": {},
   "outputs": [
    {
     "name": "stdout",
     "output_type": "stream",
     "text": [
      "내 키는 몇?150\n",
      "YES!\n"
     ]
    }
   ],
   "source": [
    "height = int(input('내 키는 몇?'))\n",
    "\n",
    "if height >= 150:\n",
    "    print('YES!')\n",
    "else:\n",
    "    print('NO!')"
   ]
  },
  {
   "cell_type": "markdown",
   "metadata": {},
   "source": [
    "# 문제18: 평균 점수\n",
    "영하네 반은 국어, 수학, 영어 시험을 보았습니다. 영하는 친구들의 평균 점수를 구해주기로 했습니다.\n",
    "\n",
    "공백으로 구분하여 세 과목의 점수가 주어지면\n",
    "전체 평균 점수를 구하는 프로그램을 작성하세요. 단, 소숫점 자리는 모두 버립니다."
   ]
  },
  {
   "cell_type": "code",
   "execution_count": 7,
   "metadata": {
    "scrolled": true
   },
   "outputs": [
    {
     "name": "stdout",
     "output_type": "stream",
     "text": [
      "1 2 3 4 5\n",
      "[1, 2, 3, 4, 5]\n"
     ]
    }
   ],
   "source": [
    "data = list(map(int, input().split()))\n",
    "print(data)\n",
    "# print(int(sum(data)/3))"
   ]
  },
  {
   "cell_type": "markdown",
   "metadata": {},
   "source": [
    "# 문제 37: count 사용하기\n",
    "새 학기를 맞아 호준이네 반은 반장 선거를 하기로 했습니다.  그런데 표를 하나씩 개표하는 과정이 너무 번거롭게 느껴진 당신은 학생들이 뽑은 후보들을 입력받으면 뽑힌 학생의 이름과 받은 표 수를 출력하는 프로그램을 작성하기로 하였습니다."
   ]
  },
  {
   "cell_type": "code",
   "execution_count": 79,
   "metadata": {},
   "outputs": [
    {
     "name": "stdout",
     "output_type": "stream",
     "text": [
      "지혜 재민 지혜\n",
      "data:  ['지혜', '재민', '지혜']\n",
      "2\n",
      "data[i-1] 재민\n",
      "data[i] 지혜\n",
      "data.count(data[i-1]) 1\n",
      "data.count[data[i]] 2\n"
     ]
    }
   ],
   "source": [
    "data = list(input().split())\n",
    "print('data: ', data)\n",
    "vote = 0\n",
    "\n",
    "# for i in range(len(data)):\n",
    "print(i)\n",
    "print('data[i-1]',data[i-1])\n",
    "print('data[i]', data[i])\n",
    "print('data.count(data[i-1])', data.count(data[i-1]))\n",
    "print('data.count[data[i]]', data.count(data[i]))\n",
    "#     if data.count(data[i-1]) < data.count(data[i]):\n",
    "#         vote = i\n",
    "#         print(\"{}(이)가 총 {}표로 반장이 되었습니다.\".format(data[vote], data.count(data[vote])))"
   ]
  },
  {
   "cell_type": "code",
   "execution_count": 82,
   "metadata": {},
   "outputs": [
    {
     "name": "stdout",
     "output_type": "stream",
     "text": [
      "지혜 지혜 재민\n",
      "data:  ['지혜', '지혜', '재민']\n",
      "0\n",
      "지혜(이)가 총 2표로 반장이 되었습니다.\n"
     ]
    }
   ],
   "source": [
    "data = list(input().split())\n",
    "print('data: ', data)\n",
    "vote = 0\n",
    "\n",
    "for i in range(len(data)):\n",
    "    if data.count(data[i-1]) < data.count(data[i]):\n",
    "        vote += i\n",
    "        print(vote)\n",
    "        print(\"{}(이)가 총 {}표로 반장이 되었습니다.\".format(data[vote], data.count(data[vote])))"
   ]
  },
  {
   "cell_type": "code",
   "execution_count": null,
   "metadata": {},
   "outputs": [],
   "source": []
  }
 ],
 "metadata": {
  "kernelspec": {
   "display_name": "Python 3",
   "language": "python",
   "name": "python3"
  },
  "language_info": {
   "codemirror_mode": {
    "name": "ipython",
    "version": 3
   },
   "file_extension": ".py",
   "mimetype": "text/x-python",
   "name": "python",
   "nbconvert_exporter": "python",
   "pygments_lexer": "ipython3",
   "version": "3.7.4"
  }
 },
 "nbformat": 4,
 "nbformat_minor": 2
}
