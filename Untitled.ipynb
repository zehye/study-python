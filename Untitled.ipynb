{
 "cells": [
  {
   "cell_type": "code",
   "execution_count": 17,
   "metadata": {},
   "outputs": [
    {
     "name": "stdout",
     "output_type": "stream",
     "text": [
      "지혜 지혜 재민\n",
      "data:  ['지혜', '지혜', '재민']\n",
      "지혜(이)가 총 2표로 반장이 되었습니다.\n",
      "지혜\n"
     ]
    }
   ],
   "source": [
    "data = list(input().split())\n",
    "print('data: ', data)\n",
    "num = 0\n",
    "\n",
    "for i in range(len(data)):\n",
    "#     print(i)\n",
    "#     print('data[i-1]',data[i-1])\n",
    "#     print('data[i]', data[i])\n",
    "#     print('data.count(data[i-1])', data.count(data[i-1]))\n",
    "#     print('data.count[data[i]]', data.count(data[i]))\n",
    "    if data.count(data[i-1]) < data.count(data[i]):\n",
    "        num = i\n",
    "#         print('num', num)\n",
    "        print(\"{}(이)가 총 {}표로 반장이 되었습니다.\".format(data[num], data.count(data[num])))\n",
    "# print(data[vote])"
   ]
  },
  {
   "cell_type": "code",
   "execution_count": 3,
   "metadata": {},
   "outputs": [
    {
     "ename": "TypeError",
     "evalue": "sum expected at least 1 arguments, got 0",
     "output_type": "error",
     "traceback": [
      "\u001b[0;31m---------------------------------------------------------------------------\u001b[0m",
      "\u001b[0;31mTypeError\u001b[0m                                 Traceback (most recent call last)",
      "\u001b[0;32m<ipython-input-3-e2917f3cff50>\u001b[0m in \u001b[0;36m<module>\u001b[0;34m\u001b[0m\n\u001b[1;32m      7\u001b[0m     \u001b[0;34m'토성'\u001b[0m\u001b[0;34m:\u001b[0m \u001b[0;34m'Saturn'\u001b[0m\u001b[0;34m,\u001b[0m\u001b[0;34m\u001b[0m\u001b[0;34m\u001b[0m\u001b[0m\n\u001b[1;32m      8\u001b[0m     \u001b[0;34m'천왕성'\u001b[0m\u001b[0;34m:\u001b[0m \u001b[0;34m'Uranus'\u001b[0m\u001b[0;34m,\u001b[0m\u001b[0;34m\u001b[0m\u001b[0;34m\u001b[0m\u001b[0m\n\u001b[0;32m----> 9\u001b[0;31m     \u001b[0;34m'해왕성'\u001b[0m\u001b[0;34m:\u001b[0m \u001b[0msum\u001b[0m\u001b[0;34m(\u001b[0m\u001b[0;34m)\u001b[0m\u001b[0;34m,\u001b[0m\u001b[0;34m\u001b[0m\u001b[0;34m\u001b[0m\u001b[0m\n\u001b[0m\u001b[1;32m     10\u001b[0m }\n",
      "\u001b[0;31mTypeError\u001b[0m: sum expected at least 1 arguments, got 0"
     ]
    }
   ],
   "source": [
    "solar_dict = {\n",
    "    '수성': 'Mercury',\n",
    "    '금성': 'Venus',\n",
    "    '지구': 'Earth',\n",
    "    '화성': 'Mars',\n",
    "    '목성': 'Jupiter',\n",
    "    '토성': 'Saturn',\n",
    "    '천왕성': 'Uranus',\n",
    "    '해왕성': sum(),\n",
    "}"
   ]
  },
  {
   "cell_type": "code",
   "execution_count": null,
   "metadata": {},
   "outputs": [],
   "source": []
  }
 ],
 "metadata": {
  "kernelspec": {
   "display_name": "Python 3",
   "language": "python",
   "name": "python3"
  },
  "language_info": {
   "codemirror_mode": {
    "name": "ipython",
    "version": 3
   },
   "file_extension": ".py",
   "mimetype": "text/x-python",
   "name": "python",
   "nbconvert_exporter": "python",
   "pygments_lexer": "ipython3",
   "version": "3.7.4"
  }
 },
 "nbformat": 4,
 "nbformat_minor": 2
}
