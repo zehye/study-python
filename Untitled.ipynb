{
 "cells": [
  {
   "cell_type": "code",
   "execution_count": 17,
   "metadata": {},
   "outputs": [
    {
     "name": "stdout",
     "output_type": "stream",
     "text": [
      "지혜 지혜 재민\n",
      "data:  ['지혜', '지혜', '재민']\n",
      "지혜(이)가 총 2표로 반장이 되었습니다.\n",
      "지혜\n"
     ]
    }
   ],
   "source": [
    "data = list(input().split())\n",
    "print('data: ', data)\n",
    "num = 0\n",
    "\n",
    "for i in range(len(data)):\n",
    "#     print(i)\n",
    "#     print('data[i-1]',data[i-1])\n",
    "#     print('data[i]', data[i])\n",
    "#     print('data.count(data[i-1])', data.count(data[i-1]))\n",
    "#     print('data.count[data[i]]', data.count(data[i]))\n",
    "    if data.count(data[i-1]) < data.count(data[i]):\n",
    "        num = i\n",
    "#         print('num', num)\n",
    "        print(\"{}(이)가 총 {}표로 반장이 되었습니다.\".format(data[num], data.count(data[num])))\n",
    "# print(data[vote])"
   ]
  },
  {
   "cell_type": "code",
   "execution_count": null,
   "metadata": {},
   "outputs": [],
   "source": []
  }
 ],
 "metadata": {
  "kernelspec": {
   "display_name": "Python 3",
   "language": "python",
   "name": "python3"
  },
  "language_info": {
   "codemirror_mode": {
    "name": "ipython",
    "version": 3
   },
   "file_extension": ".py",
   "mimetype": "text/x-python",
   "name": "python",
   "nbconvert_exporter": "python",
   "pygments_lexer": "ipython3",
   "version": "3.7.4"
  }
 },
 "nbformat": 4,
 "nbformat_minor": 2
}
