{
 "cells": [
  {
   "cell_type": "code",
   "execution_count": 19,
   "metadata": {},
   "outputs": [
    {
     "name": "stdout",
     "output_type": "stream",
     "text": [
      "1 2 3 4 5\n",
      "num:  <class 'list'> ['1', '2', '3', '4', '5']\n",
      "*num_reverse,:  <class 'list_reverseiterator'> 5 4 3 2 1\n"
     ]
    }
   ],
   "source": [
    "num = input().split()\n",
    "print('num: ',type(num),num)\n",
    "num_reverse = reversed(num)\n",
    "# test = *num_reverse,\n",
    "\n",
    "print('*num_reverse,: ', type(num_reverse), *num_reverse,)"
   ]
  },
  {
   "cell_type": "code",
   "execution_count": 20,
   "metadata": {},
   "outputs": [
    {
     "name": "stdout",
     "output_type": "stream",
     "text": [
      "1 2 3 4 5\n",
      "num:  <class 'list'> ['1', '2', '3', '4', '5']\n",
      "*num_reverse,:  <class 'list_reverseiterator'> 5 4 3 2 1\n"
     ]
    }
   ],
   "source": [
    "num = input().split()\n",
    "print('num: ',type(num),num)\n",
    "num_reverse = reversed(num)\n",
    "# test = *num_reverse,\n",
    "\n",
    "print('*num_reverse,: ', type(num_reverse), *num_reverse)"
   ]
  },
  {
   "cell_type": "code",
   "execution_count": 21,
   "metadata": {},
   "outputs": [
    {
     "name": "stdout",
     "output_type": "stream",
     "text": [
      "1 2 3 4 5\n",
      "num:  <class 'list'> ['1', '2', '3', '4', '5']\n",
      "*num_reverse,:  <class 'list_reverseiterator'> <list_reverseiterator object at 0x105070f50>\n"
     ]
    }
   ],
   "source": [
    "num = input().split()\n",
    "print('num: ',type(num),num)\n",
    "num_reverse = reversed(num)\n",
    "# test = *num_reverse,\n",
    "\n",
    "print('*num_reverse,: ', type(num_reverse), num_reverse)"
   ]
  },
  {
   "cell_type": "code",
   "execution_count": 22,
   "metadata": {},
   "outputs": [
    {
     "name": "stdout",
     "output_type": "stream",
     "text": [
      "1 2 3 4 5\n",
      "num:  <class 'list'> ['1', '2', '3', '4', '5']\n",
      "num_reverse:  <class 'tuple'> ('5', '4', '3', '2', '1')\n",
      "*num_reverse,: \n",
      "('5', '4', '3', '2', '1')\n"
     ]
    }
   ],
   "source": [
    "num = input().split()\n",
    "print('num: ',type(num),num)\n",
    "num_reverse = reversed(num)\n",
    "test = *num_reverse,\n",
    "print('num_reverse: ',type(test), test)\n",
    "print('*num_reverse,: ', *num_reverse,)\n",
    "print(test)"
   ]
  },
  {
   "cell_type": "code",
   "execution_count": null,
   "metadata": {},
   "outputs": [],
   "source": []
  }
 ],
 "metadata": {
  "kernelspec": {
   "display_name": "Python 3",
   "language": "python",
   "name": "python3"
  },
  "language_info": {
   "codemirror_mode": {
    "name": "ipython",
    "version": 3
   },
   "file_extension": ".py",
   "mimetype": "text/x-python",
   "name": "python",
   "nbconvert_exporter": "python",
   "pygments_lexer": "ipython3",
   "version": "3.7.4"
  }
 },
 "nbformat": 4,
 "nbformat_minor": 2
}
