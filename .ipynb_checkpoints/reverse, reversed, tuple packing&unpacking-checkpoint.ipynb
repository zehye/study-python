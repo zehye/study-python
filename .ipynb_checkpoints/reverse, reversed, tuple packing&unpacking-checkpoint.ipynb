{
 "cells": [
  {
   "cell_type": "code",
   "execution_count": 19,
   "metadata": {},
   "outputs": [
    {
     "name": "stdout",
     "output_type": "stream",
     "text": [
      "1 2 3 4 5\n",
      "num:  <class 'list'> ['1', '2', '3', '4', '5']\n",
      "*num_reverse,:  <class 'list_reverseiterator'> 5 4 3 2 1\n"
     ]
    }
   ],
   "source": [
    "num = input().split()\n",
    "print('num: ',type(num),num)\n",
    "num_reverse = reversed(num)\n",
    "# test = *num_reverse,\n",
    "\n",
    "print('*num_reverse,: ', type(num_reverse), *num_reverse,)"
   ]
  },
  {
   "cell_type": "code",
   "execution_count": 20,
   "metadata": {},
   "outputs": [
    {
     "name": "stdout",
     "output_type": "stream",
     "text": [
      "1 2 3 4 5\n",
      "num:  <class 'list'> ['1', '2', '3', '4', '5']\n",
      "*num_reverse,:  <class 'list_reverseiterator'> 5 4 3 2 1\n"
     ]
    }
   ],
   "source": [
    "num = input().split()\n",
    "print('num: ',type(num),num)\n",
    "num_reverse = reversed(num)\n",
    "# test = *num_reverse,\n",
    "\n",
    "print('*num_reverse,: ', type(num_reverse), *num_reverse)"
   ]
  },
  {
   "cell_type": "code",
   "execution_count": 21,
   "metadata": {},
   "outputs": [
    {
     "name": "stdout",
     "output_type": "stream",
     "text": [
      "1 2 3 4 5\n",
      "num:  <class 'list'> ['1', '2', '3', '4', '5']\n",
      "*num_reverse,:  <class 'list_reverseiterator'> <list_reverseiterator object at 0x105070f50>\n"
     ]
    }
   ],
   "source": [
    "num = input().split()\n",
    "print('num: ',type(num),num)\n",
    "num_reverse = reversed(num)\n",
    "# test = *num_reverse,\n",
    "\n",
    "print('*num_reverse,: ', type(num_reverse), num_reverse)"
   ]
  },
  {
   "cell_type": "code",
   "execution_count": 58,
   "metadata": {},
   "outputs": [
    {
     "name": "stdout",
     "output_type": "stream",
     "text": [
      "1 2 3\n",
      "num:  <class 'list'> ['1', '2', '3']\n",
      "\n",
      "test_num_reverse:  <class 'tuple'> ('3', '2', '1')\n",
      "*num_reverse, ?????:  <class 'list'> 3 2 1\n",
      "('3', '2', '1')\n"
     ]
    }
   ],
   "source": [
    "num = input().split()\n",
    "print('num: ',type(num),num)\n",
    "num.reverse()\n",
    "print()\n",
    "test = *num,\n",
    "print('test_num_reverse: ',type(test), test)\n",
    "print('*num_reverse, ?????: ', type(num), *num,)\n",
    "print(test)"
   ]
  },
  {
   "cell_type": "code",
   "execution_count": 40,
   "metadata": {},
   "outputs": [
    {
     "name": "stdout",
     "output_type": "stream",
     "text": [
      "1 2 3\n"
     ]
    }
   ],
   "source": [
    "print(1,2,3,)"
   ]
  },
  {
   "cell_type": "code",
   "execution_count": 43,
   "metadata": {},
   "outputs": [
    {
     "name": "stdout",
     "output_type": "stream",
     "text": [
      "1 2 3 4\n"
     ]
    }
   ],
   "source": [
    "str1 = [1,2,3,4]\n",
    "print(*str1)"
   ]
  },
  {
   "cell_type": "code",
   "execution_count": 48,
   "metadata": {},
   "outputs": [
    {
     "data": {
      "text/plain": [
       "[2, 3, 5, 7, 11, 13]"
      ]
     },
     "execution_count": 48,
     "metadata": {},
     "output_type": "execute_result"
    }
   ],
   "source": [
    "from functools import reduce\n",
    "\n",
    "primes = [2, 3, 5, 7, 11, 13]\n",
    "\n",
    "def product(*numbers):\n",
    "    p = reduce(lambda x, y: x * y, numbers)\n",
    "    return p\n",
    "\n",
    "product(primes)\n",
    "# 30030\n",
    "\n",
    "# product(primes)\n",
    "# [2, 3, 5, 7, 11, 13]"
   ]
  },
  {
   "cell_type": "code",
   "execution_count": 57,
   "metadata": {},
   "outputs": [
    {
     "name": "stdout",
     "output_type": "stream",
     "text": [
      "['__class__', '__delattr__', '__dir__', '__doc__', '__eq__', '__format__', '__ge__', '__getattribute__', '__gt__', '__hash__', '__init__', '__init_subclass__', '__iter__', '__le__', '__length_hint__', '__lt__', '__ne__', '__new__', '__next__', '__reduce__', '__reduce_ex__', '__repr__', '__setattr__', '__setstate__', '__sizeof__', '__str__', '__subclasshook__']\n"
     ]
    }
   ],
   "source": [
    "print(dir(reversed))"
   ]
  },
  {
   "cell_type": "code",
   "execution_count": 87,
   "metadata": {},
   "outputs": [
    {
     "name": "stdout",
     "output_type": "stream",
     "text": [
      "1 2 3\n"
     ]
    }
   ],
   "source": [
    "my_generator = (x+1 for x in range(3))\n",
    "print(*my_generator,)"
   ]
  },
  {
   "cell_type": "code",
   "execution_count": 88,
   "metadata": {},
   "outputs": [
    {
     "name": "stdout",
     "output_type": "stream",
     "text": [
      "\n"
     ]
    }
   ],
   "source": [
    "print(*my_generator,)"
   ]
  },
  {
   "cell_type": "code",
   "execution_count": 89,
   "metadata": {},
   "outputs": [
    {
     "name": "stdout",
     "output_type": "stream",
     "text": [
      "[1, 2, 3]\n",
      "1 2 3\n"
     ]
    }
   ],
   "source": [
    "my_generator = (x+1 for x in range(3))\n",
    "my_generator_list = list(my_generator)\n",
    "print(my_generator_list)\n",
    "print(*my_generator_list,)"
   ]
  },
  {
   "cell_type": "code",
   "execution_count": 90,
   "metadata": {},
   "outputs": [
    {
     "name": "stdout",
     "output_type": "stream",
     "text": [
      "[1, 2, 3]\n"
     ]
    }
   ],
   "source": [
    "print(my_generator_list)"
   ]
  },
  {
   "cell_type": "code",
   "execution_count": 4,
   "metadata": {},
   "outputs": [
    {
     "name": "stdout",
     "output_type": "stream",
     "text": [
      "<class 'type'>\n"
     ]
    }
   ],
   "source": [
    "print(type(reversed))"
   ]
  },
  {
   "cell_type": "code",
   "execution_count": null,
   "metadata": {},
   "outputs": [],
   "source": []
  }
 ],
 "metadata": {
  "kernelspec": {
   "display_name": "Python 3",
   "language": "python",
   "name": "python3"
  },
  "language_info": {
   "codemirror_mode": {
    "name": "ipython",
    "version": 3
   },
   "file_extension": ".py",
   "mimetype": "text/x-python",
   "name": "python",
   "nbconvert_exporter": "python",
   "pygments_lexer": "ipython3",
   "version": "3.7.4"
  }
 },
 "nbformat": 4,
 "nbformat_minor": 2
}
